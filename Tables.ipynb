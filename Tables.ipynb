{
 "cells": [
  {
   "cell_type": "markdown",
   "id": "a3d8a3ad",
   "metadata": {},
   "source": [
    "Q. w.a.p to generate multiplication table from 2 to 20 and write it to the \n",
    "different files.place these files in a folder for a 13 years old."
   ]
  },
  {
   "cell_type": "code",
   "execution_count": 11,
   "id": "6070dfdb",
   "metadata": {},
   "outputs": [],
   "source": [
    "for i in range(2,21):\n",
    "    with open(f\"table/Multiplication_table_of{i}.txt\",'w')as f:\n",
    "        for j in range(1,11):\n",
    "            f.write(f\"{i}X{j}={i*j}\")\n",
    "            if j!=10:\n",
    "                f.write('\\n')\n",
    "                \n",
    "        \n",
    "            \n",
    "        "
   ]
  },
  {
   "cell_type": "code",
   "execution_count": null,
   "id": "de3b7a85",
   "metadata": {},
   "outputs": [],
   "source": []
  },
  {
   "cell_type": "code",
   "execution_count": null,
   "id": "b7262d98",
   "metadata": {},
   "outputs": [],
   "source": []
  }
 ],
 "metadata": {
  "kernelspec": {
   "display_name": "Python 3 (ipykernel)",
   "language": "python",
   "name": "python3"
  },
  "language_info": {
   "codemirror_mode": {
    "name": "ipython",
    "version": 3
   },
   "file_extension": ".py",
   "mimetype": "text/x-python",
   "name": "python",
   "nbconvert_exporter": "python",
   "pygments_lexer": "ipython3",
   "version": "3.9.7"
  }
 },
 "nbformat": 4,
 "nbformat_minor": 5
}
